{
 "cells": [
  {
   "cell_type": "code",
   "execution_count": 55,
   "id": "f0f8590f",
   "metadata": {},
   "outputs": [],
   "source": [
    "import pandas as pd\n",
    "from reportlab.lib.pagesizes import letter\n",
    "from reportlab.platypus import SimpleDocTemplate, Table, TableStyle, Paragraph\n",
    "from reportlab.lib.styles import getSampleStyleSheet\n",
    "from reportlab.lib import colors"
   ]
  },
  {
   "cell_type": "code",
   "execution_count": 56,
   "id": "b91865a7",
   "metadata": {},
   "outputs": [],
   "source": [
    "file_path = 'output.txt'\n",
    "\n",
    "data = []\n",
    "with open(file_path, 'r') as file:\n",
    "    for line in file:\n",
    "        parsed_line = eval(line.strip())\n",
    "        if isinstance(parsed_line, dict):\n",
    "            data.append(parsed_line)\n",
    "        "
   ]
  },
  {
   "cell_type": "code",
   "execution_count": 57,
   "id": "15f08b8f",
   "metadata": {},
   "outputs": [
    {
     "data": {
      "text/plain": [
       "{'concept_asked': 'Mobile-first development',\n",
       " 'question': 'Can you explain the benefits of mobile-first development and how you have implemented it in your previous projects?',\n",
       " 'question_category': 'Experience'}"
      ]
     },
     "execution_count": 57,
     "metadata": {},
     "output_type": "execute_result"
    }
   ],
   "source": [
    "data[0]"
   ]
  },
  {
   "cell_type": "code",
   "execution_count": 58,
   "id": "4e1dd9ee",
   "metadata": {},
   "outputs": [],
   "source": [
    "rows = []\n",
    "for i in range(1, len(data)):\n",
    "    if i == 1:\n",
    "        concept = data[i - 1].get('concept_asked', None)\n",
    "    else:\n",
    "        concept = data[i].get('new_concept', None)\n",
    "    previous_category = data[i - 1].get('question_category', None) \n",
    "\n",
    "    current_review = {\n",
    "        'Category': previous_category,\n",
    "        'Concept' : concept,\n",
    "        'Evaluation' : f\"Technical : {data[i].get('technical_ability', None)} Language : {data[i].get('language_clarity', None)} Knowledge : {data[i].get('depth_of_knowledge', None)}\",\n",
    "        'Review' : data[i].get('review', None),\n",
    "    }\n",
    "    rows.append(current_review)\n",
    "\n",
    "df = pd.DataFrame(rows)\n"
   ]
  },
  {
   "cell_type": "code",
   "execution_count": 59,
   "id": "19994cd9",
   "metadata": {},
   "outputs": [
    {
     "data": {
      "text/html": [
       "<div>\n",
       "<style scoped>\n",
       "    .dataframe tbody tr th:only-of-type {\n",
       "        vertical-align: middle;\n",
       "    }\n",
       "\n",
       "    .dataframe tbody tr th {\n",
       "        vertical-align: top;\n",
       "    }\n",
       "\n",
       "    .dataframe thead th {\n",
       "        text-align: right;\n",
       "    }\n",
       "</style>\n",
       "<table border=\"1\" class=\"dataframe\">\n",
       "  <thead>\n",
       "    <tr style=\"text-align: right;\">\n",
       "      <th></th>\n",
       "      <th>Category</th>\n",
       "      <th>Concept</th>\n",
       "      <th>Evaluation</th>\n",
       "      <th>Review</th>\n",
       "    </tr>\n",
       "  </thead>\n",
       "  <tbody>\n",
       "    <tr>\n",
       "      <th>0</th>\n",
       "      <td>Experience</td>\n",
       "      <td>Mobile-first development</td>\n",
       "      <td>Technical : 2 Language : 6 Knowledge : 4</td>\n",
       "      <td>Lack of understanding of mobile-first developm...</td>\n",
       "    </tr>\n",
       "    <tr>\n",
       "      <th>1</th>\n",
       "      <td>Technical Concept</td>\n",
       "      <td>Responsive Web Design</td>\n",
       "      <td>Technical : 3 Language : 5 Knowledge : 2</td>\n",
       "      <td>Lacks technical knowledge and clarity in expla...</td>\n",
       "    </tr>\n",
       "    <tr>\n",
       "      <th>2</th>\n",
       "      <td>Technical Concept</td>\n",
       "      <td>Mobile Web-App Development</td>\n",
       "      <td>Technical : 2 Language : 6 Knowledge : 4</td>\n",
       "      <td>The candidate was unable to explain the concep...</td>\n",
       "    </tr>\n",
       "  </tbody>\n",
       "</table>\n",
       "</div>"
      ],
      "text/plain": [
       "            Category                     Concept  \\\n",
       "0         Experience    Mobile-first development   \n",
       "1  Technical Concept       Responsive Web Design   \n",
       "2  Technical Concept  Mobile Web-App Development   \n",
       "\n",
       "                                 Evaluation  \\\n",
       "0  Technical : 2 Language : 6 Knowledge : 4   \n",
       "1  Technical : 3 Language : 5 Knowledge : 2   \n",
       "2  Technical : 2 Language : 6 Knowledge : 4   \n",
       "\n",
       "                                              Review  \n",
       "0  Lack of understanding of mobile-first developm...  \n",
       "1  Lacks technical knowledge and clarity in expla...  \n",
       "2  The candidate was unable to explain the concep...  "
      ]
     },
     "execution_count": 59,
     "metadata": {},
     "output_type": "execute_result"
    }
   ],
   "source": [
    "df.head()"
   ]
  },
  {
   "cell_type": "code",
   "execution_count": 60,
   "id": "7110fab0",
   "metadata": {},
   "outputs": [],
   "source": [
    "review_string = \"\"\n",
    "\n",
    "for idx, row in df.iterrows():\n",
    "    curr_row = \"\"\n",
    "    for col in df.columns:\n",
    "        curr_row += f\"{col} : {row[col]}\\t\"\n",
    "    curr_row += \"\\n\"\n",
    "    review_string += curr_row"
   ]
  },
  {
   "cell_type": "code",
   "execution_count": 61,
   "id": "75c246f6",
   "metadata": {},
   "outputs": [
    {
     "name": "stdout",
     "output_type": "stream",
     "text": [
      "Category : Experience\tConcept : Mobile-first development\tEvaluation : Technical : 2 Language : 6 Knowledge : 4\tReview : Lack of understanding of mobile-first development. Needs improvement in technical ability and depth of knowledge.\t\n",
      "Category : Technical Concept\tConcept : Responsive Web Design\tEvaluation : Technical : 3 Language : 5 Knowledge : 2\tReview : Lacks technical knowledge and clarity in explanation.\t\n",
      "Category : Technical Concept\tConcept : Mobile Web-App Development\tEvaluation : Technical : 2 Language : 6 Knowledge : 4\tReview : The candidate was unable to explain the concept of cross-browser compatibility. They showed a lack of understanding and knowledge in this area.\t\n",
      "\n"
     ]
    }
   ],
   "source": [
    "print(review_string)"
   ]
  },
  {
   "cell_type": "code",
   "execution_count": 62,
   "id": "4d9ed78e",
   "metadata": {},
   "outputs": [],
   "source": [
    "styles = getSampleStyleSheet()\n",
    "styleN = styles[\"Normal\"]\n",
    "\n",
    "wrapped_data = [[Paragraph(str(cell), styleN) for cell in row] for row in [df.columns.tolist()] + df.values.tolist()]\n",
    "\n",
    "doc = SimpleDocTemplate(\"output.pdf\", pagesize=letter)\n",
    "\n",
    "col_widths = [80, 100, 90, 250]\n",
    "\n",
    "table = Table(wrapped_data, colWidths=col_widths, repeatRows=1)\n",
    "\n",
    "table.setStyle(TableStyle([\n",
    "    ('BACKGROUND', (0, 0), (-1, 0), colors.gray),\n",
    "    ('TEXTCOLOR', (0, 0), (-1, 0), colors.whitesmoke),\n",
    "    ('ALIGN', (0, 0), (-1, -1), 'LEFT'),\n",
    "    ('FONTNAME', (0, 0), (-1, 0), 'Helvetica-Bold'),\n",
    "    ('FONTSIZE', (0, 0), (-1, -1), 8),\n",
    "    ('BOTTOMPADDING', (0, 0), (-1, 0), 6),\n",
    "    ('GRID', (0, 0), (-1, -1), 0.5, colors.black),\n",
    "    ('VALIGN', (0, 0), (-1, -1), 'TOP'),\n",
    "]))\n",
    "\n",
    "doc.build([table])"
   ]
  },
  {
   "cell_type": "code",
   "execution_count": null,
   "id": "3d20889c",
   "metadata": {},
   "outputs": [],
   "source": []
  }
 ],
 "metadata": {
  "kernelspec": {
   "display_name": "vr-interview",
   "language": "python",
   "name": "python3"
  },
  "language_info": {
   "codemirror_mode": {
    "name": "ipython",
    "version": 3
   },
   "file_extension": ".py",
   "mimetype": "text/x-python",
   "name": "python",
   "nbconvert_exporter": "python",
   "pygments_lexer": "ipython3",
   "version": "3.12.7"
  }
 },
 "nbformat": 4,
 "nbformat_minor": 5
}
